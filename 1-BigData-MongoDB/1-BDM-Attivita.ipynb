{
 "cells": [
  {
   "cell_type": "markdown",
   "metadata": {
    "colab_type": "text",
    "id": "kx4f2Ldm_E0W"
   },
   "source": [
    "# MongoDB - Modellazione e interrogazione su dati reali\n",
    "Simone Richetti, mat. 129180, attività 1."
   ]
  },
  {
   "cell_type": "markdown",
   "metadata": {
    "colab_type": "text",
    "id": "QXF3vYaM_RYg"
   },
   "source": [
    "## Traccia\n",
    "\n",
    "Partendo da uno dei dataset reali *Airbnb* presenti alla pagina http://insideairbnb.com/get-the-data.html, convertirne in JSON la struttura modellandola in modo opportuno (manualmente su alcuni esempi o attraverso\n",
    "uno script python) (è possibile considerare anche solo una porzione dei campi originari). Quindi, inserire i dati in una collezione e interrogarli creando 5 interrogazioni di crescente difficoltà, incluse interrogazioni di\n",
    "aggregazione."
   ]
  },
  {
   "cell_type": "markdown",
   "metadata": {
    "colab_type": "text",
    "id": "5EitF0id-pOE"
   },
   "source": [
    "## Dati\n",
    "Sono stati utilizzati i dati pubblici di *Airbnb* resi disponibili all'indirizzo http://insideairbnb.com/get-the-data.html. \\\n",
    "Più nello specifico, sono stati utilizzati i dati relativi ai *listings* di Roma:  http://data.insideairbnb.com/italy/lazio/rome/2020-02-19/data/listings.csv.gz.\n",
    "\n",
    "Si noti come, affinchè il notebook funzioni, sia necessario avere nella sua stessa directory un file di nome <code>listings.csv</code> contenente i dati da utilizzare nel formato in cui sono forniti da *Airbnb*."
   ]
  },
  {
   "cell_type": "markdown",
   "metadata": {
    "colab_type": "text",
    "id": "F9en_oW75V2h"
   },
   "source": [
    "## Dipendenze"
   ]
  },
  {
   "cell_type": "code",
   "execution_count": 1,
   "metadata": {
    "colab": {},
    "colab_type": "code",
    "id": "7Aa4jmcSkXXR"
   },
   "outputs": [],
   "source": [
    "import csv\n",
    "import collections\n",
    "import json\n",
    "import pymongo"
   ]
  },
  {
   "cell_type": "markdown",
   "metadata": {
    "colab_type": "text",
    "id": "Dv8taxDS5V2y"
   },
   "source": [
    "***"
   ]
  },
  {
   "cell_type": "markdown",
   "metadata": {
    "colab_type": "text",
    "id": "jLIKI-LQkXXM"
   },
   "source": [
    "# Parte 1 - Conversione CSV to JSON\n",
    "Questa prima parte di notebook ha lo scopo di:\n",
    "1. Estrarre i dati dal file CSV e salvarli in una lista di dictionary;\n",
    "2. Manipolare i dictionaries in modo da:\\\n",
    "    a. Effettuare il casting al tipo di dato più opportuno dei diversi campi;\\\n",
    "    b. Eliminare i campi vuoti;\\\n",
    "    c. Creare il campo *location*.\n",
    "3. Trasformare ogni dictionary in un oggetto JSON. "
   ]
  },
  {
   "cell_type": "markdown",
   "metadata": {
    "colab_type": "text",
    "id": "E4yek09akXXf"
   },
   "source": [
    "La lista che segue è una lista di tuple del tipo `(<field_name>, <data_type>, <parent_field>)`. Questa lista è utilizzata per definire la struttura degli oggetti JSON a partire dai dictionary contenenti i campi del file CSV. \n",
    "\n",
    "Ho scelto di mantenere solo un sottoinsieme dei campi iniziali e di creare una struttura annidata che identifica quelli che sono, a mio parere, gli aspetti più importanti, interessanti e utilizzati di questi dati: **il gestore, la posizione, gli spazi dell'appartamento, il prezzo e le recensioni**. Ciascuno di questi campi ha come campi annidati quelli forniti dal file CSV correlati al relativo aspetto. Si aggiungono a questi le informazioni di base come id, nome e descrizione. Questi campi saranno a loro volta sfruttati nelle queries della parte 3.\n",
    "\n",
    "Seguono, infine, i nomi dei file di input (CSV) e output (JSON)."
   ]
  },
  {
   "cell_type": "code",
   "execution_count": 2,
   "metadata": {
    "colab": {},
    "colab_type": "code",
    "id": "KqNxVGEmkXXh"
   },
   "outputs": [],
   "source": [
    "LISTINGS_COL_SUBSET = [\n",
    "    ('id', 'int', None) ,\n",
    "    ('name','str', None),\n",
    "    ('summary','str', None),\n",
    "\n",
    "    ('host', 'dict', None),\n",
    "    ('host_id','int', 'host'),\n",
    "    ('host_name','str', 'host'),\n",
    "    ('host_listings_count','int', 'host'),\n",
    "\n",
    "    ('address', 'dict', None),\n",
    "    ('zipcode','str', 'address'),\n",
    "    ('city','str', 'address'),\n",
    "    ('street','str', 'address'),\n",
    "    ('neighbourhood', 'str', 'address'),\n",
    "    \n",
    "    ('location', 'dict', None),\n",
    "    ('longitude', 'flt', 'location'),\n",
    "    ('latitude', 'flt', 'location'),\n",
    "\n",
    "    ('spaces', 'dict', None),\n",
    "    ('property_type','str', 'spaces'),\n",
    "    ('room_type','str', 'spaces'),\n",
    "    ('accommodates','str', 'spaces'),\n",
    "    ('bathrooms','flt', 'spaces'),\n",
    "    ('bedrooms','int', 'spaces'),\n",
    "    ('beds','int', 'spaces'),\n",
    "    ('bed_type','str', 'spaces'),\n",
    "    ('square_feet','int', 'spaces'),\n",
    "    \n",
    "    ('pricing', 'dict', None),\n",
    "    ('price','prc', 'pricing'),\n",
    "    ('weekly_price','prc', 'pricing'),\n",
    "    ('monthly_price','prc', 'pricing'),\n",
    "\n",
    "    ('reviews', 'dict', None),\n",
    "    ('number_of_reviews','int', 'reviews'),\n",
    "    ('review_scores_rating', 'flt', 'reviews'),\n",
    "    ('review_scores_accuracy', 'flt', 'reviews'),\n",
    "    ('review_scores_cleanliness', 'flt', 'reviews'),\n",
    "    ('review_scores_checkin', 'flt', 'reviews'),\n",
    "    ('review_scores_communication', 'flt', 'reviews'),\n",
    "    ('review_scores_location', 'flt', 'reviews'),\n",
    "    ('review_scores_value', 'flt', 'reviews'),\n",
    "    ('reviews_per_month', 'flt', 'reviews')\n",
    "]\n",
    "LISTINGS_CSV_FILENAME = 'listings.csv'\n",
    "LISTINGS_JSON_FILENAME = 'listings.json'"
   ]
  },
  {
   "cell_type": "code",
   "execution_count": 3,
   "metadata": {
    "colab": {},
    "colab_type": "code",
    "id": "uQJ1ZB8JkXXw"
   },
   "outputs": [],
   "source": [
    "def parse_filter_csv(filename):\n",
    "    \"\"\"Parse CSV file\n",
    "\n",
    "    Parse CSV file and stores data in a list of OrderedDict\n",
    "    \"\"\"\n",
    "    \n",
    "    data = []\n",
    "    with open(filename, 'r', encoding='utf8') as csv_file:\n",
    "        col_names = csv_file.readline()[:-1].split(',')\n",
    "        csv_reader = csv.DictReader(csv_file, fieldnames=col_names)\n",
    "        data = list(csv_reader)\n",
    "    return data\n",
    "\n",
    "\n",
    "def filter_manage_csv(reader, col_types):\n",
    "    \"\"\"Manage dictionary fields\n",
    "\n",
    "    Given a list of OrderedDict and a list of fields with relative data type,\n",
    "    remove empty fields, keeps only selected fields and make a cast to the \n",
    "    desired data type. Cast prices from a string \"[$|€][t,]hdu.dec\" to the \n",
    "    relative float.\n",
    "    \"\"\"\n",
    "    \n",
    "    new_rows=[]\n",
    "    for row in reader:\n",
    "        # Remove rows without important fields\n",
    "        if not (row[\"name\"] and row[\"host_id\"] and row[\"price\"]):\n",
    "            continue\n",
    "\n",
    "        # Cast strings to different types and populate dict\n",
    "        new_row = collections.OrderedDict()\n",
    "        for field, type, parent in col_types:\n",
    "            if type!=\"dict\" and not row[field]:\n",
    "                continue\n",
    "            value = None\n",
    "            if type == \"int\":\n",
    "                value = int(row[field])\n",
    "            elif type == \"flt\":\n",
    "                value = float(row[field])\n",
    "            elif type==\"prc\":\n",
    "                value = float(row[field][1:].replace(',', ''))\n",
    "            elif type==\"dict\":\n",
    "                value = dict()\n",
    "            else:\n",
    "                value = row[field]\n",
    "            if not parent:\n",
    "                new_row[field] = value\n",
    "            else:\n",
    "                new_row[parent][field] = value\n",
    "\n",
    "        new_rows.append(new_row)\n",
    "\n",
    "    return new_rows"
   ]
  },
  {
   "cell_type": "code",
   "execution_count": 4,
   "metadata": {
    "colab": {},
    "colab_type": "code",
    "id": "vbARubU2kXX7"
   },
   "outputs": [],
   "source": [
    "listings = parse_filter_csv(LISTINGS_CSV_FILENAME)\n",
    "listings = filter_manage_csv(listings, LISTINGS_COL_SUBSET)\n",
    "with open(LISTINGS_JSON_FILENAME, 'w') as out_file:\n",
    "    json.dump(listings, out_file, indent=4)"
   ]
  },
  {
   "cell_type": "markdown",
   "metadata": {
    "colab_type": "text",
    "id": "UIfOzDiK5V3Q"
   },
   "source": [
    "---"
   ]
  },
  {
   "cell_type": "markdown",
   "metadata": {
    "colab_type": "text",
    "id": "Ooo9NYIwkXYC"
   },
   "source": [
    "# Parte 2 - Creare database MongoDB e popolarlo\n",
    "In questa seconda (breve) parte, l'obiettivo è quello di poplare un database MongoDB con i dati creati dallo script precedente e collegarsi ad esso per poter eseguire queries.\n",
    "\n",
    "Il comando `mongoimport` ci permette di importare in un db (*test*) una nuova collection (*listings*) e popolarla con i documenti che abbiamo salvato nel file *listings.json*:\n",
    "    \n",
    "    $ mongoimport --db test --collection listings --drop --file listings.json --jsonArray\n",
    "\n",
    "Poichè utilizzeremo l'operatore `$near` nella query 3 per sfruttare i dati sulla posizione geografica, è prima necessario creare un indice di tipo *2d* nel campo *location*. Per creare l'indice, utilizziamo il comando `mongo` per aprire una shell connessa al nostro db e utilizziamo le seguenti istruzioni:\n",
    "\n",
    "    >use test\n",
    "    >db.listings.createIndex({location: \"2d\"})\n",
    "\n",
    "Per controllare che l'indice sia stato creato è possibile utilizzare il comando `>db.listings.getIndices()`.\n",
    "\n",
    "Nel nostro secondo script python utilizziamo il package `pymongo` per creare una connessione con il nostro database e poter quindi effettuare queries su di esso:"
   ]
  },
  {
   "cell_type": "code",
   "execution_count": 5,
   "metadata": {
    "colab": {},
    "colab_type": "code",
    "id": "qY0NMnlukXYD"
   },
   "outputs": [],
   "source": [
    "def print_results(cursor, fields=[]):\n",
    "    \"\"\"Print query results\n",
    "\n",
    "    A utility function for printing query results. A list of fields can be given in\n",
    "    input to print only a subset of fields for each result.\n",
    "    \"\"\"\n",
    "    \n",
    "    if fields:\n",
    "        for result in cursor:\n",
    "            out = dict()\n",
    "            for field in fields:\n",
    "                if '.' in field:\n",
    "                    parent_field, child_field = field.split('.')\n",
    "                    out[child_field] = result[parent_field][child_field]\n",
    "                else:\n",
    "                    out[field] = result[field]\n",
    "            print(out, \"\\n\")\n",
    "    else:\n",
    "        for result in cursor:\n",
    "            print(result, \"\\n\")\n",
    "\n",
    "\n",
    "client = pymongo.MongoClient('localhost', 27017)\n",
    "db = client.test\n",
    "collection = db.listings"
   ]
  },
  {
   "cell_type": "markdown",
   "metadata": {
    "colab_type": "text",
    "id": "a_8F0ljt5V3Z"
   },
   "source": [
    "***"
   ]
  },
  {
   "cell_type": "markdown",
   "metadata": {
    "colab_type": "text",
    "id": "T57Izy0xicaL"
   },
   "source": [
    "# Parte 3 - Queries\n",
    "Nella terza e ultima parte implementiamo cinque queries di difficoltà crescente per la nostra collection *listings*. Le queries vogliono esplorare e studiare i principali aspetti dei dati identificati nella prima parte del notebook mediante delle queries che possano simulare delle plausibili ricerce da parte di clienti del sito.\n",
    "\n",
    "Le queries sono:\n",
    "1.   Migliori 10 attici della città\n",
    "2.   Migliori 10 appartamenti con 5-10 letti e almeno 100 recensioni\n",
    "3.   Gli appartamenti più vicini al Colosseo\n",
    "4.   Quartieri con prezzi mensili mediamente più bassi\n",
    "5.   Migliori 10 gestori di appartamenti"
   ]
  },
  {
   "cell_type": "markdown",
   "metadata": {
    "colab_type": "text",
    "id": "FJnpRB_xkXYP"
   },
   "source": [
    "## Query 1: Migliori 10 attici della città\n",
    "Questa query usa un'espressione regolare per trovare tutte le descrizioni che contengono la parola \"*attic*\" e sceglie i 10 appartamenti con le migliori recensioni. A parità di voti nelle recensioni si considera l'appartamento che ne ha ricevute di più."
   ]
  },
  {
   "cell_type": "code",
   "execution_count": 6,
   "metadata": {
    "colab": {},
    "colab_type": "code",
    "id": "AkTHUyCHkXYQ"
   },
   "outputs": [
    {
     "name": "stdout",
     "output_type": "stream",
     "text": [
      "{'name': 'PignetoRhome: Casetta Allegra', 'summary': 'Nice and cosy attic in the heart of a characteristic neighborhood in Rome.  The flat has just been completly renovated and is fully equiped with anything you need for your roman holiday ', 'review_scores_value': 10.0, 'number_of_reviews': 380} \n",
      "\n",
      "{'name': 'Colosseum Loft', 'summary': \"Luminoso silenzioso bilocale totalmente a disposizione degli ospiti,  con cucina e bagno proprio, situato nell'attico di un palazzo dell'800, con ascensore. É il quartiere dei registi come P Sorrentino, M Garrone e Abel Ferrara, non invaso dai turisti. A 80 metri dalla principale metro (A), 15 min. a piedi dal Colosseo e a 1 fermata della metro dalla  Stazione Termini. 3 supermercati a 90 metri, i famosi forni Roscioli e Panella,3 ottime trattorie e vinoteche e l'incredibile pasticceria Regoli.\", 'review_scores_value': 10.0, 'number_of_reviews': 246} \n",
      "\n",
      "{'name': 'Cozy and romantic apartment', 'summary': 'Open space attic, about 40m2, bohemien style. The apartment is small and quiet, but well organized and it also suitable for families with children. It is located in the attic on the top floor of a beatiful Libertry - Style building. The apartment is in the historical and elagant Prati neighbourhood, close to the Vatican, Piazza del Popolo and many of Romes main attractions and historical centre.', 'review_scores_value': 10.0, 'number_of_reviews': 235} \n",
      "\n",
      "{'name': 'Attico di Design con Travi a Vista nel Cuore di Trastevere', 'summary': 'Overlooking the terrace, inebriated by the light of Rome and the flavors of the taverns not far away, and enjoy the privilege of the ancient Roman hollywood memories, from an attic with exposed beams that will make you feel in a movie. Affacciati sulla terrazza, inebriati della luce di Roma e dei sapori delle osterie poco lontano, e godi il privilegio delle antiche vacanze romane di hollywoodiana memoria, da un attico con travi a vista che ti farà sentire in un film.', 'review_scores_value': 10.0, 'number_of_reviews': 217} \n",
      "\n",
      "{'name': 'Baccina Suite - attico al Colosseo', 'summary': \"Bellissimo attico mansardato nel centro storico di Roma con camino e terrazza panoramica. E' ubicato a soli 200mt dal Colosseo e 50mt dal Foro Romano, dispone di tutti i confort per rendere le vostre vacanze romane indimenticabili.\", 'review_scores_value': 10.0, 'number_of_reviews': 191} \n",
      "\n",
      "{'name': 'Bright flat with two terraces near Vatican', 'summary': \"Viridarium is a modern and functional attic, decorated with plants and details from the Roman tradition. It is located in a no-tourist area well-served by public transport: 3 metro stops far from the Vatican and 5 metro stops far from the centre of Rome. The two bus stops for reaching the city centre are in front of the building. The flat is suitable for couples, parents with son and solo travellers. Travellers with physical disabilities' access is limited: no access ramp and 10 steps to climb.\", 'review_scores_value': 10.0, 'number_of_reviews': 186} \n",
      "\n",
      "{'name': 'Domus Mirabile City View Roma', 'summary': 'Domus Mirabile is an apartment situated in the nearby of the Roman Walls. It is the ideal place for a stay in Rome deep into archaeology, arts and culture. A superb comfortable attic will allow you to spend an unforgettable holiday.', 'review_scores_value': 10.0, 'number_of_reviews': 184} \n",
      "\n",
      "{'name': \"Terrace 30 'to Colosseum x 4/5 (2 bedrooms+living)\", 'summary': \"The apartment consists of a penthouse and superattico with common entrance. At the attic I live. At the upper floor, with access to a staircase and a door, a B&B for 4/5 people: 2 double bedrooms (200x160 bed), one with en-suite bathroom and living room with kitchenette. At the foot of the stairs a 2nd bath available to guests. The panoramic terrace (50 sqm) has rocking chair and table. The tram 8 leads 15 'to Trastevere and 20' to P. Venezia. From here on 10 'walk you are at the Colosseum.\", 'review_scores_value': 10.0, 'number_of_reviews': 176} \n",
      "\n",
      "{'name': 'Romantic studio in city center', 'summary': 'Close to Piazza del Popolo, to the Auditorium of Music and the Maxxi museum. The  attic ( that is, with a slopin roof) comfortable and can accommodate 2 or 3 people (there is a double bed and a single bed). The studio is furnished of all you need.', 'review_scores_value': 10.0, 'number_of_reviews': 161} \n",
      "\n",
      "{'name': 'ATTICO LUMINOSO CON TERRAZZA ZONA SAN PIETRO', 'summary': \"l'appartamento con matrimoniale ampia e luminosa si trova al 7° p. attico nel quartiere Prati, dispone di una grande terrazza ed è a quattro minuti a piedi dalla Metro Ottaviano - S. Pietro. La Basilica di S. Pietro è raggiungibile a piedi in 10 minuti.\", 'review_scores_value': 10.0, 'number_of_reviews': 157} \n",
      "\n"
     ]
    }
   ],
   "source": [
    "cursor = collection.find({\"summary\": {\"$regex\": \"attic\"}})\\\n",
    "    .sort([(\"reviews.review_scores_value\", pymongo.DESCENDING),\n",
    "           (\"reviews.number_of_reviews\", pymongo.DESCENDING)])\\\n",
    "    .limit(10)\n",
    "print_results(cursor, [\"name\", \"summary\", \n",
    "                       \"reviews.review_scores_value\", \"reviews.number_of_reviews\"])"
   ]
  },
  {
   "cell_type": "markdown",
   "metadata": {
    "colab_type": "text",
    "id": "Law5PaN_kXYU"
   },
   "source": [
    "## Query 2: Migliori 10 appartamenti con 5-10 letti e almeno 100 recensioni\n",
    "Questa query usa operatori logici e aritmetici per trovare tutti gli appartamenti che abbiano tra i 5 e i 10 letti, un voto nelle recensioni maggiore di 8 e almeno 100 recensioni. Questa potrebbe essere una ricerca plausibile per una famiglia numerosa o un gruppo di amici."
   ]
  },
  {
   "cell_type": "code",
   "execution_count": 7,
   "metadata": {
    "colab": {},
    "colab_type": "code",
    "id": "fL976GpDkXYV"
   },
   "outputs": [
    {
     "name": "stdout",
     "output_type": "stream",
     "text": [
      "{'name': \"Opulent Loft near Spanish Steps & Trevi's Fountain\", 'beds': 6, 'review_scores_value': 10.0, 'number_of_reviews': 431} \n",
      "\n",
      "{'name': 'Antica Roma', 'beds': 5, 'review_scores_value': 10.0, 'number_of_reviews': 406} \n",
      "\n",
      "{'name': 'ABSOLUTE COLOSSEUM APARTMENT', 'beds': 5, 'review_scores_value': 10.0, 'number_of_reviews': 397} \n",
      "\n",
      "{'name': 'Vatican Corner ', 'beds': 5, 'review_scores_value': 10.0, 'number_of_reviews': 355} \n",
      "\n",
      "{'name': 'Unique place in the heart of Rome!', 'beds': 6, 'review_scores_value': 10.0, 'number_of_reviews': 345} \n",
      "\n",
      "{'name': 'Bright and Modern LOFT of ART in ROME!', 'beds': 6, 'review_scores_value': 10.0, 'number_of_reviews': 339} \n",
      "\n",
      "{'name': 'Central 3bdr apt , A/C, WIFI', 'beds': 5, 'review_scores_value': 10.0, 'number_of_reviews': 305} \n",
      "\n",
      "{'name': 'Beautiful two-roomed apartment in Pigneto', 'beds': 5, 'review_scores_value': 10.0, 'number_of_reviews': 296} \n",
      "\n",
      "{'name': \"Vaticano St. Peter's Amazing View\", 'beds': 8, 'review_scores_value': 10.0, 'number_of_reviews': 294} \n",
      "\n",
      "{'name': 'Vatican Balcony', 'beds': 5, 'review_scores_value': 10.0, 'number_of_reviews': 284} \n",
      "\n"
     ]
    }
   ],
   "source": [
    "cursor = collection.find(\n",
    "    {\n",
    "        \"$and\": [\n",
    "            {\"spaces.beds\": {\"$gte\": 5}}, \n",
    "            {\"spaces.beds\": {\"$lte\": 10}}, \n",
    "            {\"reviews.review_scores_value\": {\"$gt\": 8}},\n",
    "            {\"reviews.number_of_reviews\": {\"$gt\": 100}}\n",
    "        ]\n",
    "    }\n",
    ").sort([(\"reviews.review_scores_value\", pymongo.DESCENDING),\n",
    "        (\"reviews.number_of_reviews\", pymongo.DESCENDING)]).limit(10)\n",
    "print_results(cursor, [\"name\", \"spaces.beds\", \n",
    "                       \"reviews.review_scores_value\", \"reviews.number_of_reviews\"])"
   ]
  },
  {
   "cell_type": "markdown",
   "metadata": {
    "colab_type": "text",
    "id": "rM3lepVh5V3s"
   },
   "source": [
    "## Query 3: Gli appartamenti più vicini al Colosseo\n",
    "Questa query utilizza utilizza l'indice geografico creato precedentemente con l'operatore ``$near`` per identificare i 10 appartamenti più vicini al Colosseo, sfruttando le sue coordinate di latitudine e longitudine."
   ]
  },
  {
   "cell_type": "code",
   "execution_count": 8,
   "metadata": {
    "colab": {},
    "colab_type": "code",
    "id": "FhLI7GZlz_9K"
   },
   "outputs": [
    {
     "name": "stdout",
     "output_type": "stream",
     "text": [
      "{'name': 'New Rione Monti house', 'summary': \"Live like a Roman in the city's trendiest district. Step out of the apartment and rub shoulders with the neighbours: nuns, artisans, artists... 5 Minutes from Termini and the Colosseum. Stylish and recently refurbished apartment mixing old and new.\", 'location': {'longitude': 12.49283, 'latitude': 41.89002}} \n",
      "\n",
      "{'name': 'Unforgettable', 'summary': 'Large, surprising, elegant apartment. Breath-taking and unmatched view.   All you need for a memorable stay.', 'location': {'longitude': 12.49291, 'latitude': 41.89006}} \n",
      "\n",
      "{'name': 'Appartamento in stile shabby nel cuore della città antica', 'summary': 'Have fun and relax in this apartment where the shabby style surrounds you and involves you. The unexpected colors and solutions follow one another between the rooms, but it will only take you a moment to feel at ease, relax and discover Rome. At the check in you will be required to pay the Roma City Tax 3,50euro x person x night + clenaing fee 50euro. Al check in vi sarà richiesto di mostrare un documento valido e di pagare la Roma City Tax 3,50euro x persona x notte + 50euro tassa pulizia', 'location': {'longitude': 12.49281, 'latitude': 41.89077}} \n",
      "\n",
      "{'name': 'Not only close but RIGHT IN FRONT of the Colosseum', 'summary': \"Here an incredibile location, right in front of the Colosseum! Very spacious and elegant apartment with two flight  -a surprising discovery, unexpected layout of rooms, stairs, passages, archways. All the space you need! I'll help you with the city, planning Vatican and Coliseum-Forum tours. Also I'll be happy to offer personally a tour by the baroque area-Trevi Fountain, Pantheon, Piazza Navona and much more... If you need a pick up service from the airport to the apartment, I'll arrange that.\", 'location': {'longitude': 12.49301, 'latitude': 41.89069}} \n",
      "\n",
      "{'name': 'Colosseum Fantastic studio with Kitchen and garden', 'summary': 'This great room is furnished to a great standard s. It’s the ideal retreat for an all-inclusive & up-scale stay, located in the absolute  heart of Rome. Literally in front of the Colosseum We believe it’s the ultimate location to experience Rome the way it should be. Close to all of the cultural action, but secluded in your own home. Get ready to get inspired! Very close to some fabulous sites. All in all, guaranteed enjoyment and relaxation. All day long.', 'location': {'longitude': 12.49203, 'latitude': 41.89121}} \n",
      "\n",
      "{'name': 'Coliseum - city center - A/C - WIFI', 'summary': 'A modern and cozy flat, extremely quiet and just renovated. Located in the most accessible area of Rome, few metres from subway and with the best monuments like the Coliseum just around the corner reachable on foot.', 'location': {'longitude': 12.49292, 'latitude': 41.88963}} \n",
      "\n",
      "{'name': 'COLOSSEUM COLOSSEO!', 'summary': 'PRIVATE BIGGGG TERRACE ALL PRIVATE JUST FOR YOU!!! EXCLUSIVE PRIVATE VIEW OF FORO ROMANO AND PIAZZA VENEZIA AND COLOSSEUM ON THE LEFT SIDE !!! ALL AROUND COLOSSEUM AND ALL HISTORICAL CENTRE FROM VERANDA!!! YOU CAN SEE PIAZZA VENEZIA FROM YOUR BED WITHOUT STAND UP!!!', 'location': {'longitude': 12.49313, 'latitude': 41.89072}} \n",
      "\n",
      "{'name': 'Rome Colosseo Luxury downtown area', 'summary': 'BIG Holiday House Rome - ROME HISTORIC CENTER straordinary position in the construction of  18th-century  surface 1399ft   3bedrooms 6beds  2bathroom kitchen laundry leaving room . Spettacolary wiev on Colosseum  all property. 130 square meters. Tube station 2 minutes . The most beautiful view of Rome on the Coliseum with 4 windows. Furnished with original antique furniture 40/50 years. Very close to the Opium Hill Park. All the antiquities of ancient Rome are within 10 minutes. ROMA', 'location': {'longitude': 12.49313, 'latitude': 41.89082}} \n",
      "\n",
      "{'name': 'Iulia - Camera Superior con vista Colosseo', 'summary': \"Il Colosseo ai tuoi piedi!  La Suite Iulia regala una vista mozzafiato sul Colosseo. Dotata di un angolo salotto in morbida pelle Frau e di comodi armadi disegnati  sempre da artigiani italiani in stile deco', questa Suite mette immediatamente gli ospiti a proprio agio, come a casa. La suite è dotata di due ampie finestre e di un grande lampadario in cristallo di Murano. Nel bagno potrete rilassarvi nella spaziosa doccia con bagno di vapore e godendo di uno scorcio di vista ancora sul Colosseo.\", 'location': {'longitude': 12.4919, 'latitude': 41.89131}} \n",
      "\n",
      "{'name': 'Coliseum white flat', 'summary': \"March 2017 NEW ELEVATOR!!! Cozy and quiet apartment a stone's throw from the Colosseum and the major archaeological sites of Imperial Rome. Elegant and equipped with every comfort, is consists of a 3 sleeping area, living room with kitchen and 2 bathrooms. Wi-fi , bedline and towels are included. Metro station is 5 minutes walking and a 24h market is 100 meters from the apartment The area is full of restaurants and bars and i have a list of recommended places :)\", 'location': {'longitude': 12.49318, 'latitude': 41.89087}} \n",
      "\n"
     ]
    }
   ],
   "source": [
    "COLOSSEUM_LATITUDE = 41.890278\n",
    "COLOSSEUM_LONGITUDE = 12.492222\n",
    "\n",
    "cursor = collection.find(\n",
    "    {\n",
    "        \"location\": {\"$near\": [COLOSSEUM_LONGITUDE, COLOSSEUM_LATITUDE]}\n",
    "    }\n",
    ").limit(10)\n",
    "print_results(cursor, [\"name\", \"summary\", \"location\"])"
   ]
  },
  {
   "cell_type": "markdown",
   "metadata": {
    "colab_type": "text",
    "id": "71GoJYIN5V3z"
   },
   "source": [
    "## Query 4: Quartieri con prezzi mensili mediamente più bassi\n",
    "Questa query utilizza la pipeline di aggregazione per identificare i quartieri in cui gli appartamenti hanno il prezzo medio mensile più basso. Questa query potrebbe riprodurre la ricerca di uno studente fuorisede che vuole identificare la zona più economica in cui cercare un appartamento per stabilirsi in città."
   ]
  },
  {
   "cell_type": "code",
   "execution_count": 9,
   "metadata": {
    "colab": {},
    "colab_type": "code",
    "id": "KGL8z8Yl2X92"
   },
   "outputs": [
    {
     "name": "stdout",
     "output_type": "stream",
     "text": [
      "{'_id': 'Tor Pignattara', 'avg_price': 729.25, 'number_of_apartments': 16} \n",
      "\n",
      "{'_id': 'Centocelle', 'avg_price': 809.0, 'number_of_apartments': 37} \n",
      "\n",
      "{'_id': 'Quadraro', 'avg_price': 969.2307692307693, 'number_of_apartments': 26} \n",
      "\n",
      "{'_id': 'Pigneto', 'avg_price': 1062.5567010309278, 'number_of_apartments': 97} \n",
      "\n",
      "{'_id': 'San Lorenzo', 'avg_price': 1131.4583333333333, 'number_of_apartments': 24} \n",
      "\n",
      "{'_id': 'Cinecittá', 'avg_price': 1133.3666666666666, 'number_of_apartments': 30} \n",
      "\n",
      "{'_id': 'Portuense', 'avg_price': 1167.9848484848485, 'number_of_apartments': 66} \n",
      "\n",
      "{'_id': 'EUR', 'avg_price': 1232.3461538461538, 'number_of_apartments': 26} \n",
      "\n",
      "{'_id': 'Garbatella', 'avg_price': 1307.5142857142857, 'number_of_apartments': 35} \n",
      "\n",
      "{'_id': 'San Giovanni', 'avg_price': 1311.6626984126983, 'number_of_apartments': 252} \n",
      "\n",
      "{'_id': 'Monteverde Nuovo', 'avg_price': 1327.2272727272727, 'number_of_apartments': 44} \n",
      "\n",
      "{'_id': 'Trieste', 'avg_price': 1367.6422764227643, 'number_of_apartments': 123} \n",
      "\n",
      "{'_id': 'Nomentana', 'avg_price': 1376.6122448979593, 'number_of_apartments': 98} \n",
      "\n",
      "{'_id': 'Monteverde Vecchio', 'avg_price': 1421.7905405405406, 'number_of_apartments': 148} \n",
      "\n",
      "{'_id': 'Ostiense', 'avg_price': 1431.0958904109589, 'number_of_apartments': 73} \n",
      "\n",
      "{'_id': 'Balduina', 'avg_price': 1433.5757575757575, 'number_of_apartments': 33} \n",
      "\n",
      "{'_id': 'Sallustiano', 'avg_price': 1480.7142857142858, 'number_of_apartments': 7} \n",
      "\n",
      "{'_id': 'San Paolo', 'avg_price': 1496.0, 'number_of_apartments': 5} \n",
      "\n",
      "{'_id': 'Testaccio', 'avg_price': 1516.7666666666667, 'number_of_apartments': 30} \n",
      "\n",
      "{'_id': 'Flaminio', 'avg_price': 1525.888888888889, 'number_of_apartments': 27} \n",
      "\n"
     ]
    }
   ],
   "source": [
    "cursor = collection.aggregate(\n",
    "    [\n",
    "        {\"$match\": {\"$and\": [{\"pricing.monthly_price\": {\"$exists\": True}}, \n",
    "                             {\"address.neighbourhood\": {\"$exists\": True}}]}},\n",
    "        {\n",
    "            \"$group\": {\n",
    "                \"_id\": \"$address.neighbourhood\",\n",
    "                \"avg_price\": {\"$avg\": \"$pricing.monthly_price\"},\n",
    "                \"number_of_apartments\": {\"$sum\": 1}\n",
    "            }\n",
    "        },\n",
    "        {\"$sort\": {\"avg_price\": 1}},\n",
    "        {\"$limit\": 20}\n",
    "    ]\n",
    ")\n",
    "print_results(cursor)"
   ]
  },
  {
   "cell_type": "markdown",
   "metadata": {
    "colab_type": "text",
    "id": "otkrSkx-5V36"
   },
   "source": [
    "## Query 5: Migliori 10 gestori di appartamenti\n",
    "Questa query sfrutta la pipeline di aggregazione per identificare i migliori \"gestori\" di appartamenti. Per fare ciò, vengono raggruppati gli appartamenti che hanno lo stesso proprietario, si calcola la media dei voti delle recensioni degli appartamenti e si somma il loro numero. Si considerano i 10 gestori con la più alta media di recensioni e, in caso di parità, si considera quello con il numero maggiore di recensioni."
   ]
  },
  {
   "cell_type": "code",
   "execution_count": 10,
   "metadata": {
    "colab": {},
    "colab_type": "code",
    "id": "7uT6KGcHkXYY"
   },
   "outputs": [
    {
     "name": "stdout",
     "output_type": "stream",
     "text": [
      "{'_id': 1180196, 'name': ['Andrea'], 'rating': 10.0, 'reviews': 3754} \n",
      "\n",
      "{'_id': 7392775, 'name': ['Marina'], 'rating': 10.0, 'reviews': 1968} \n",
      "\n",
      "{'_id': 3925580, 'name': ['Rita'], 'rating': 10.0, 'reviews': 1629} \n",
      "\n",
      "{'_id': 23734715, 'name': ['Maura'], 'rating': 10.0, 'reviews': 1462} \n",
      "\n",
      "{'_id': 1112966, 'name': ['Massi & Co.'], 'rating': 10.0, 'reviews': 1319} \n",
      "\n",
      "{'_id': 610888, 'name': ['Luca'], 'rating': 10.0, 'reviews': 1092} \n",
      "\n",
      "{'_id': 6927053, 'name': ['Andrea'], 'rating': 10.0, 'reviews': 1092} \n",
      "\n",
      "{'_id': 31731637, 'name': ['Laurie & Silvano'], 'rating': 10.0, 'reviews': 1017} \n",
      "\n",
      "{'_id': 8796286, 'name': ['Roberto'], 'rating': 10.0, 'reviews': 991} \n",
      "\n",
      "{'_id': 18744779, 'name': ['Martina'], 'rating': 10.0, 'reviews': 943} \n",
      "\n"
     ]
    }
   ],
   "source": [
    "cursor = collection.aggregate(\n",
    "    [\n",
    "        {\n",
    "            \"$group\": \n",
    "                {\n",
    "                    \"_id\": \"$host.host_id\",\n",
    "                    \"name\": {\"$addToSet\": \"$host.host_name\"},\n",
    "                    \"rating\": {\"$avg\": \"$reviews.review_scores_value\"}, \n",
    "                    \"reviews\": {\"$sum\": \"$reviews.number_of_reviews\"}\n",
    "                }\n",
    "        },\n",
    "        {\"$sort\": {\"rating\": -1, \"reviews\": -1}},\n",
    "        {\"$limit\": 10}\n",
    "    ]\n",
    ")\n",
    "print_results(cursor)"
   ]
  }
 ],
 "metadata": {
  "colab": {
   "collapsed_sections": [],
   "name": "1_BDM_Attivita-definitivo.ipynb",
   "provenance": []
  },
  "kernelspec": {
   "display_name": "Python 3",
   "language": "python",
   "name": "python3"
  },
  "language_info": {
   "codemirror_mode": {
    "name": "ipython",
    "version": 3
   },
   "file_extension": ".py",
   "mimetype": "text/x-python",
   "name": "python",
   "nbconvert_exporter": "python",
   "pygments_lexer": "ipython3",
   "version": "3.7.7"
  }
 },
 "nbformat": 4,
 "nbformat_minor": 1
}
