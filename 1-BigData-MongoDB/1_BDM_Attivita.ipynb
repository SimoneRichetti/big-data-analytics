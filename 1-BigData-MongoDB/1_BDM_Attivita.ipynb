{
 "cells": [
  {
   "cell_type": "markdown",
   "metadata": {
    "colab_type": "text",
    "id": "kx4f2Ldm_E0W"
   },
   "source": [
    "# MongoDB - Modellazione e interrogazione su dati reali\n",
    "Simone Richetti, mat. 129180, attività 1."
   ]
  },
  {
   "cell_type": "markdown",
   "metadata": {
    "colab_type": "text",
    "id": "QXF3vYaM_RYg"
   },
   "source": [
    "## Traccia\n",
    "\n",
    "Partendo da uno dei dataset reali *Airbnb* presenti alla pagina http://insideairbnb.com/get-the-data.html, convertirne in JSON la struttura modellandola in modo opportuno (manualmente su alcuni esempi o attraverso\n",
    "uno script python) (è possibile considerare anche solo una porzione dei campi originari). Quindi, inserire i dati in una collezione e interrogarli creando 5 interrogazioni di crescente difficoltà, incluse interrogazioni di\n",
    "aggregazione."
   ]
  },
  {
   "cell_type": "markdown",
   "metadata": {
    "colab_type": "text",
    "id": "5EitF0id-pOE"
   },
   "source": [
    "## Dati\n",
    "Sono stati utilizzati i dati pubblici di *Airbnb* resi disponibili all'indirizzo http://insideairbnb.com/get-the-data.html. \\\n",
    "Più nello specifico, sono stati utilizzati i dati relativi ai *listings* di Roma:  http://data.insideairbnb.com/italy/lazio/rome/2020-02-19/data/listings.csv.gz.\n",
    "\n",
    "Si noti come, affinchè il notebook funzioni, sia necessario avere nella sua stessa directory un file di nome <code>listings.csv</code> contenente i dati da utilizzare nel formato in cui sono forniti da *Airbnb*."
   ]
  },
  {
   "cell_type": "markdown",
   "metadata": {
    "colab_type": "text",
    "id": "F9en_oW75V2h"
   },
   "source": [
    "## Dipendenze"
   ]
  },
  {
   "cell_type": "code",
   "execution_count": 2,
   "metadata": {
    "colab": {},
    "colab_type": "code",
    "id": "7Aa4jmcSkXXR"
   },
   "outputs": [],
   "source": [
    "import csv\n",
    "import collections\n",
    "import json\n",
    "import pymongo"
   ]
  },
  {
   "cell_type": "markdown",
   "metadata": {
    "colab_type": "text",
    "id": "Dv8taxDS5V2y"
   },
   "source": [
    "***"
   ]
  },
  {
   "cell_type": "markdown",
   "metadata": {
    "colab_type": "text",
    "id": "jLIKI-LQkXXM"
   },
   "source": [
    "# Parte 1 - Conversione CSV to JSON\n",
    "Questo primo script ha lo scopo di:\n",
    "1. Estrarre i dati dal file CSV e salvarli in una lista di dictionary;\n",
    "2. Manipolare i dictionaries in modo da:\\\n",
    "    a. Effettuare il casting al tipo di dato più opportuno dei diversi campi;\\\n",
    "    b. Eliminare i campi vuoti;\\\n",
    "    c. Creare il campo *location*.\n",
    "3. Trasformare ogni dictionary in un oggetto JSON. "
   ]
  },
  {
   "cell_type": "markdown",
   "metadata": {
    "colab_type": "text",
    "id": "E4yek09akXXf"
   },
   "source": [
    "La lista che segue è una lista di tuple del tipo `(<field_name>, <data_type>, <parent_field>)`. Questa lista è utilizzata per definire la struttura degli oggetti JSON a partire dai dictionary contenenti i campi del file CSV. \n",
    "\n",
    "Ho scelto di mantenere solo un sottoinsieme dei campi iniziali e di creare una struttura annidata che identifica quelli che sono, a mio parere, gli aspetti più importanti, interessanti e utilizzati di questi dati: **il gestore, la posizione, gli spazi dell'appartamento, il prezzo e le recensioni**. Ciascuno di questi campi ha come campi annidati quelli forniti dal file CSV correlati al relativo aspetto. Si aggiungono a questi le informazioni di base come id, nome e descrizione. Questi campi saranno a loro volta sfruttati nelle queries della parte 3.\n",
    "\n",
    "Seguono, infine, i nomi dei file di input (CSV) e output (JSON)."
   ]
  },
  {
   "cell_type": "code",
   "execution_count": 3,
   "metadata": {
    "colab": {},
    "colab_type": "code",
    "id": "KqNxVGEmkXXh"
   },
   "outputs": [],
   "source": [
    "LISTINGS_COL_SUBSET = [\n",
    "    ('id', 'int', None) ,\n",
    "    ('name','str', None),\n",
    "    ('summary','str', None),\n",
    "\n",
    "    ('host', 'dict', None),\n",
    "    ('host_id','int', 'host'),\n",
    "    ('host_name','str', 'host'),\n",
    "    ('host_listings_count','int', 'host'),\n",
    "\n",
    "    ('address', 'dict', None),\n",
    "    ('zipcode','str', 'address'),\n",
    "    ('city','str', 'address'),\n",
    "    ('street','str', 'address'),\n",
    "    ('neighbourhood', 'str', 'address'),\n",
    "    \n",
    "    ('location', 'dict', None),\n",
    "    ('longitude', 'flt', 'location'),\n",
    "    ('latitude', 'flt', 'location'),\n",
    "\n",
    "    ('spaces', 'dict', None),\n",
    "    ('property_type','str', 'spaces'),\n",
    "    ('room_type','str', 'spaces'),\n",
    "    ('accommodates','str', 'spaces'),\n",
    "    ('bathrooms','flt', 'spaces'),\n",
    "    ('bedrooms','int', 'spaces'),\n",
    "    ('beds','int', 'spaces'),\n",
    "    ('bed_type','str', 'spaces'),\n",
    "    ('square_feet','int', 'spaces'),\n",
    "    \n",
    "    ('pricing', 'dict', None),\n",
    "    ('price','prc', 'pricing'),\n",
    "    ('weekly_price','prc', 'pricing'),\n",
    "    ('monthly_price','prc', 'pricing'),\n",
    "\n",
    "    ('reviews', 'dict', None),\n",
    "    ('number_of_reviews','int', 'reviews'),\n",
    "    ('review_scores_rating', 'flt', 'reviews'),\n",
    "    ('review_scores_accuracy', 'flt', 'reviews'),\n",
    "    ('review_scores_cleanliness', 'flt', 'reviews'),\n",
    "    ('review_scores_checkin', 'flt', 'reviews'),\n",
    "    ('review_scores_communication', 'flt', 'reviews'),\n",
    "    ('review_scores_location', 'flt', 'reviews'),\n",
    "    ('review_scores_value', 'flt', 'reviews'),\n",
    "    ('reviews_per_month', 'flt', 'reviews')\n",
    "]\n",
    "LISTINGS_CSV_FILENAME = 'listings.csv'\n",
    "LISTINGS_JSON_FILENAME = 'listings.json'"
   ]
  },
  {
   "cell_type": "code",
   "execution_count": 4,
   "metadata": {
    "colab": {},
    "colab_type": "code",
    "id": "uQJ1ZB8JkXXw"
   },
   "outputs": [],
   "source": [
    "\"\"\"Parse CSV file\n",
    "\n",
    "Parse CSV file and stores data in a list of OrderedDict\n",
    "\"\"\"\n",
    "def parse_filter_csv(filename):\n",
    "    data = []\n",
    "    with open(filename, 'r', encoding='utf8') as csv_file:\n",
    "        col_names = csv_file.readline()[:-1].split(',')\n",
    "        csv_reader = csv.DictReader(csv_file, fieldnames=col_names)\n",
    "        data = list(csv_reader)\n",
    "    return data\n",
    "\n",
    "\n",
    "\"\"\"Manage dictionary fields\n",
    "\n",
    "Given a list of OrderedDict and a list of fields with relative data type,\n",
    "remove empty fields, keeps only selected fields and make a cast to the \n",
    "desired data type. Cast prices from a string \"[$|€][t,]hdu.dec\" to the \n",
    "relative float.\n",
    "\"\"\"\n",
    "def filter_manage_csv(reader, col_types):\n",
    "    new_rows=[]\n",
    "    for row in reader:\n",
    "        # Remove rows without important fields\n",
    "        if not (row[\"name\"] and row[\"host_id\"] and row[\"price\"]):\n",
    "            continue\n",
    "\n",
    "        # Cast strings to different types and populate dict\n",
    "        new_row = collections.OrderedDict()\n",
    "        for field, type, parent in col_types:\n",
    "            if type!=\"dict\" and not row[field]:\n",
    "                continue\n",
    "            value = None\n",
    "            if type == \"int\":\n",
    "                value = int(row[field])\n",
    "            elif type == \"flt\":\n",
    "                value = float(row[field])\n",
    "            elif type==\"prc\":\n",
    "                value = float(row[field][1:].replace(',', ''))\n",
    "            elif type==\"dict\":\n",
    "                value = dict()\n",
    "            else:\n",
    "                value = row[field]\n",
    "            if not parent:\n",
    "                new_row[field] = value\n",
    "            else:\n",
    "                new_row[parent][field] = value\n",
    "\n",
    "        new_rows.append(new_row)\n",
    "\n",
    "    return new_rows"
   ]
  },
  {
   "cell_type": "code",
   "execution_count": 5,
   "metadata": {
    "colab": {},
    "colab_type": "code",
    "id": "vbARubU2kXX7"
   },
   "outputs": [],
   "source": [
    "if __name__ == \"__main__\":\n",
    "    listings = parse_filter_csv(LISTINGS_CSV_FILENAME)\n",
    "    listings = filter_manage_csv(listings, LISTINGS_COL_SUBSET)\n",
    "    with open(LISTINGS_JSON_FILENAME, 'w') as out_file:\n",
    "        json.dump(listings, out_file, indent=4)"
   ]
  },
  {
   "cell_type": "markdown",
   "metadata": {
    "colab_type": "text",
    "id": "UIfOzDiK5V3Q"
   },
   "source": [
    "***"
   ]
  },
  {
   "cell_type": "markdown",
   "metadata": {
    "colab_type": "text",
    "id": "Ooo9NYIwkXYC"
   },
   "source": [
    "# Parte 2 - Creare database MongoDB e popolarlo\n",
    "In questa seconda (breve) parte, l'obiettivo è quello di poplare un database MongoDB con i dati creati dallo script precedente e collegarsi ad esso per poter eseguire queries.\n",
    "\n",
    "Il comando `mongoimport` ci permette di importare in un db (*test*), una nuova collection (*listings*) e popolarla con i documenti che abbiamo salvato nel file *listings.json*:\n",
    "    \n",
    "    $ mongoimport --db test --collection listings --drop --file listings.json --jsonArray\n",
    "\n",
    "Poichè utilizzeremo l'operatore `$near` nella query 3 per sfruttare i dati sulla posizione geografica, è prima necessario creare un indice di tipo *2d* nel campo *location*. Per creare l'indice, utilizziamo il comando `mongo` per aprire una shell connessa al nostro db e utilizziamo le seguenti istruzioni:\n",
    "\n",
    "    >use test\n",
    "    >db.listings.createIndex({location: \"2d\"})\n",
    "\n",
    "Per controllare che l'indice sia stato creato è possibile utilizzare il comando `>db.listings.getIndices()`.\n",
    "\n",
    "Nel nostro secondo script python utilizziamo il package `pymongo` per creare una connessione con il nostro database e poter quindi effettuare queries su di esso:"
   ]
  },
  {
   "cell_type": "code",
   "execution_count": 6,
   "metadata": {
    "colab": {},
    "colab_type": "code",
    "id": "qY0NMnlukXYD"
   },
   "outputs": [],
   "source": [
    "\"\"\"Print query results\n",
    "\n",
    "A utility function for printing query results. A list of fields can be given in\n",
    "input to print only a subset of fields for each result.\n",
    "\"\"\"\n",
    "def print_results(cursor, fields=[]):\n",
    "    if fields:\n",
    "        for result in cursor:\n",
    "            out = dict()\n",
    "            for field in fields:\n",
    "                if '.' in field:\n",
    "                    parent_field, child_field = field.split('.')\n",
    "                    out[child_field] = result[parent_field][child_field]\n",
    "                else:\n",
    "                    out[field] = result[field]\n",
    "            print(out, \"\\n\")\n",
    "    else:\n",
    "        for result in cursor:\n",
    "            print(result, \"\\n\")\n",
    "\n",
    "\n",
    "client = pymongo.MongoClient('localhost', 27017)\n",
    "db = client.test\n",
    "collection = db.listings"
   ]
  },
  {
   "cell_type": "markdown",
   "metadata": {
    "colab_type": "text",
    "id": "a_8F0ljt5V3Z"
   },
   "source": [
    "***"
   ]
  },
  {
   "cell_type": "markdown",
   "metadata": {
    "colab_type": "text",
    "id": "T57Izy0xicaL"
   },
   "source": [
    "# Parte 3 - Queries\n",
    "Nella terza e ultima parte implementiamo cinque queries di difficoltà crescente per la nostra collection *listings*. Le queries vogliono esplorare e studiare i principali aspetti dei dati identificati nella prima parte del notebook mediante delle queries che possano simulare delle plausibili ricerce da parte di clienti del sito.\n",
    "\n",
    "Le queries sono:\n",
    "1.   Migliori 10 attici della città\n",
    "2.   Migliori 10 appartamenti con 5-10 letti e almeno 100 recensioni\n",
    "3.   Gli appartamenti più vicini al Colosseo\n",
    "4.   Quartieri con prezzi mensili mediamente più bassi\n",
    "5.   Migliori 10 gestori di appartamenti"
   ]
  },
  {
   "cell_type": "markdown",
   "metadata": {
    "colab_type": "text",
    "id": "FJnpRB_xkXYP"
   },
   "source": [
    "## Query 1: Migliori 10 attici della città\n",
    "Questa query usa un'espressione regolare per trovare tutte le descrizioni che contengono la parola \"*attic*\" e sceglie i 10 appartamenti con le migliori recensioni. A parità di voti nelle recensioni si considera l'appartamento che ne ha ricevute di più."
   ]
  },
  {
   "cell_type": "code",
   "execution_count": 7,
   "metadata": {
    "colab": {},
    "colab_type": "code",
    "id": "AkTHUyCHkXYQ"
   },
   "outputs": [
    {
     "ename": "ServerSelectionTimeoutError",
     "evalue": "localhost:27017: [WinError 10061] Impossibile stabilire la connessione. Rifiuto persistente del computer di destinazione",
     "output_type": "error",
     "traceback": [
      "\u001b[1;31m---------------------------------------------------------------------------\u001b[0m",
      "\u001b[1;31mServerSelectionTimeoutError\u001b[0m               Traceback (most recent call last)",
      "\u001b[1;32m<ipython-input-7-0c04278abb09>\u001b[0m in \u001b[0;36m<module>\u001b[1;34m\u001b[0m\n\u001b[0;32m      4\u001b[0m     \u001b[1;33m.\u001b[0m\u001b[0mlimit\u001b[0m\u001b[1;33m(\u001b[0m\u001b[1;36m10\u001b[0m\u001b[1;33m)\u001b[0m\u001b[1;33m\u001b[0m\u001b[1;33m\u001b[0m\u001b[0m\n\u001b[0;32m      5\u001b[0m print_results(cursor, [\"name\", \"summary\", \n\u001b[1;32m----> 6\u001b[1;33m                        \"reviews.review_scores_value\", \"reviews.number_of_reviews\"])\n\u001b[0m",
      "\u001b[1;32m<ipython-input-6-811a09df7f33>\u001b[0m in \u001b[0;36mprint_results\u001b[1;34m(cursor, fields)\u001b[0m\n\u001b[0;32m      6\u001b[0m \u001b[1;32mdef\u001b[0m \u001b[0mprint_results\u001b[0m\u001b[1;33m(\u001b[0m\u001b[0mcursor\u001b[0m\u001b[1;33m,\u001b[0m \u001b[0mfields\u001b[0m\u001b[1;33m=\u001b[0m\u001b[1;33m[\u001b[0m\u001b[1;33m]\u001b[0m\u001b[1;33m)\u001b[0m\u001b[1;33m:\u001b[0m\u001b[1;33m\u001b[0m\u001b[1;33m\u001b[0m\u001b[0m\n\u001b[0;32m      7\u001b[0m     \u001b[1;32mif\u001b[0m \u001b[0mfields\u001b[0m\u001b[1;33m:\u001b[0m\u001b[1;33m\u001b[0m\u001b[1;33m\u001b[0m\u001b[0m\n\u001b[1;32m----> 8\u001b[1;33m         \u001b[1;32mfor\u001b[0m \u001b[0mresult\u001b[0m \u001b[1;32min\u001b[0m \u001b[0mcursor\u001b[0m\u001b[1;33m:\u001b[0m\u001b[1;33m\u001b[0m\u001b[1;33m\u001b[0m\u001b[0m\n\u001b[0m\u001b[0;32m      9\u001b[0m             \u001b[0mout\u001b[0m \u001b[1;33m=\u001b[0m \u001b[0mdict\u001b[0m\u001b[1;33m(\u001b[0m\u001b[1;33m)\u001b[0m\u001b[1;33m\u001b[0m\u001b[1;33m\u001b[0m\u001b[0m\n\u001b[0;32m     10\u001b[0m             \u001b[1;32mfor\u001b[0m \u001b[0mfield\u001b[0m \u001b[1;32min\u001b[0m \u001b[0mfields\u001b[0m\u001b[1;33m:\u001b[0m\u001b[1;33m\u001b[0m\u001b[1;33m\u001b[0m\u001b[0m\n",
      "\u001b[1;32m~\\anaconda3\\envs\\big-data-projects\\lib\\site-packages\\pymongo\\cursor.py\u001b[0m in \u001b[0;36mnext\u001b[1;34m(self)\u001b[0m\n\u001b[0;32m   1154\u001b[0m         \u001b[1;32mif\u001b[0m \u001b[0mself\u001b[0m\u001b[1;33m.\u001b[0m\u001b[0m__empty\u001b[0m\u001b[1;33m:\u001b[0m\u001b[1;33m\u001b[0m\u001b[1;33m\u001b[0m\u001b[0m\n\u001b[0;32m   1155\u001b[0m             \u001b[1;32mraise\u001b[0m \u001b[0mStopIteration\u001b[0m\u001b[1;33m\u001b[0m\u001b[1;33m\u001b[0m\u001b[0m\n\u001b[1;32m-> 1156\u001b[1;33m         \u001b[1;32mif\u001b[0m \u001b[0mlen\u001b[0m\u001b[1;33m(\u001b[0m\u001b[0mself\u001b[0m\u001b[1;33m.\u001b[0m\u001b[0m__data\u001b[0m\u001b[1;33m)\u001b[0m \u001b[1;32mor\u001b[0m \u001b[0mself\u001b[0m\u001b[1;33m.\u001b[0m\u001b[0m_refresh\u001b[0m\u001b[1;33m(\u001b[0m\u001b[1;33m)\u001b[0m\u001b[1;33m:\u001b[0m\u001b[1;33m\u001b[0m\u001b[1;33m\u001b[0m\u001b[0m\n\u001b[0m\u001b[0;32m   1157\u001b[0m             \u001b[1;32mif\u001b[0m \u001b[0mself\u001b[0m\u001b[1;33m.\u001b[0m\u001b[0m__manipulate\u001b[0m\u001b[1;33m:\u001b[0m\u001b[1;33m\u001b[0m\u001b[1;33m\u001b[0m\u001b[0m\n\u001b[0;32m   1158\u001b[0m                 \u001b[0m_db\u001b[0m \u001b[1;33m=\u001b[0m \u001b[0mself\u001b[0m\u001b[1;33m.\u001b[0m\u001b[0m__collection\u001b[0m\u001b[1;33m.\u001b[0m\u001b[0mdatabase\u001b[0m\u001b[1;33m\u001b[0m\u001b[1;33m\u001b[0m\u001b[0m\n",
      "\u001b[1;32m~\\anaconda3\\envs\\big-data-projects\\lib\\site-packages\\pymongo\\cursor.py\u001b[0m in \u001b[0;36m_refresh\u001b[1;34m(self)\u001b[0m\n\u001b[0;32m   1048\u001b[0m \u001b[1;33m\u001b[0m\u001b[0m\n\u001b[0;32m   1049\u001b[0m         \u001b[1;32mif\u001b[0m \u001b[1;32mnot\u001b[0m \u001b[0mself\u001b[0m\u001b[1;33m.\u001b[0m\u001b[0m__session\u001b[0m\u001b[1;33m:\u001b[0m\u001b[1;33m\u001b[0m\u001b[1;33m\u001b[0m\u001b[0m\n\u001b[1;32m-> 1050\u001b[1;33m             \u001b[0mself\u001b[0m\u001b[1;33m.\u001b[0m\u001b[0m__session\u001b[0m \u001b[1;33m=\u001b[0m \u001b[0mself\u001b[0m\u001b[1;33m.\u001b[0m\u001b[0m__collection\u001b[0m\u001b[1;33m.\u001b[0m\u001b[0mdatabase\u001b[0m\u001b[1;33m.\u001b[0m\u001b[0mclient\u001b[0m\u001b[1;33m.\u001b[0m\u001b[0m_ensure_session\u001b[0m\u001b[1;33m(\u001b[0m\u001b[1;33m)\u001b[0m\u001b[1;33m\u001b[0m\u001b[1;33m\u001b[0m\u001b[0m\n\u001b[0m\u001b[0;32m   1051\u001b[0m \u001b[1;33m\u001b[0m\u001b[0m\n\u001b[0;32m   1052\u001b[0m         \u001b[1;32mif\u001b[0m \u001b[0mself\u001b[0m\u001b[1;33m.\u001b[0m\u001b[0m__id\u001b[0m \u001b[1;32mis\u001b[0m \u001b[1;32mNone\u001b[0m\u001b[1;33m:\u001b[0m  \u001b[1;31m# Query\u001b[0m\u001b[1;33m\u001b[0m\u001b[1;33m\u001b[0m\u001b[0m\n",
      "\u001b[1;32m~\\anaconda3\\envs\\big-data-projects\\lib\\site-packages\\pymongo\\mongo_client.py\u001b[0m in \u001b[0;36m_ensure_session\u001b[1;34m(self, session)\u001b[0m\n\u001b[0;32m   1805\u001b[0m             \u001b[1;31m# Don't make implicit sessions causally consistent. Applications\u001b[0m\u001b[1;33m\u001b[0m\u001b[1;33m\u001b[0m\u001b[1;33m\u001b[0m\u001b[0m\n\u001b[0;32m   1806\u001b[0m             \u001b[1;31m# should always opt-in.\u001b[0m\u001b[1;33m\u001b[0m\u001b[1;33m\u001b[0m\u001b[1;33m\u001b[0m\u001b[0m\n\u001b[1;32m-> 1807\u001b[1;33m             \u001b[1;32mreturn\u001b[0m \u001b[0mself\u001b[0m\u001b[1;33m.\u001b[0m\u001b[0m__start_session\u001b[0m\u001b[1;33m(\u001b[0m\u001b[1;32mTrue\u001b[0m\u001b[1;33m,\u001b[0m \u001b[0mcausal_consistency\u001b[0m\u001b[1;33m=\u001b[0m\u001b[1;32mFalse\u001b[0m\u001b[1;33m)\u001b[0m\u001b[1;33m\u001b[0m\u001b[1;33m\u001b[0m\u001b[0m\n\u001b[0m\u001b[0;32m   1808\u001b[0m         \u001b[1;32mexcept\u001b[0m \u001b[1;33m(\u001b[0m\u001b[0mConfigurationError\u001b[0m\u001b[1;33m,\u001b[0m \u001b[0mInvalidOperation\u001b[0m\u001b[1;33m)\u001b[0m\u001b[1;33m:\u001b[0m\u001b[1;33m\u001b[0m\u001b[1;33m\u001b[0m\u001b[0m\n\u001b[0;32m   1809\u001b[0m             \u001b[1;31m# Sessions not supported, or multiple users authenticated.\u001b[0m\u001b[1;33m\u001b[0m\u001b[1;33m\u001b[0m\u001b[1;33m\u001b[0m\u001b[0m\n",
      "\u001b[1;32m~\\anaconda3\\envs\\big-data-projects\\lib\\site-packages\\pymongo\\mongo_client.py\u001b[0m in \u001b[0;36m__start_session\u001b[1;34m(self, implicit, **kwargs)\u001b[0m\n\u001b[0;32m   1758\u001b[0m \u001b[1;33m\u001b[0m\u001b[0m\n\u001b[0;32m   1759\u001b[0m         \u001b[1;31m# Raises ConfigurationError if sessions are not supported.\u001b[0m\u001b[1;33m\u001b[0m\u001b[1;33m\u001b[0m\u001b[1;33m\u001b[0m\u001b[0m\n\u001b[1;32m-> 1760\u001b[1;33m         \u001b[0mserver_session\u001b[0m \u001b[1;33m=\u001b[0m \u001b[0mself\u001b[0m\u001b[1;33m.\u001b[0m\u001b[0m_get_server_session\u001b[0m\u001b[1;33m(\u001b[0m\u001b[1;33m)\u001b[0m\u001b[1;33m\u001b[0m\u001b[1;33m\u001b[0m\u001b[0m\n\u001b[0m\u001b[0;32m   1761\u001b[0m         \u001b[0mopts\u001b[0m \u001b[1;33m=\u001b[0m \u001b[0mclient_session\u001b[0m\u001b[1;33m.\u001b[0m\u001b[0mSessionOptions\u001b[0m\u001b[1;33m(\u001b[0m\u001b[1;33m**\u001b[0m\u001b[0mkwargs\u001b[0m\u001b[1;33m)\u001b[0m\u001b[1;33m\u001b[0m\u001b[1;33m\u001b[0m\u001b[0m\n\u001b[0;32m   1762\u001b[0m         return client_session.ClientSession(\n",
      "\u001b[1;32m~\\anaconda3\\envs\\big-data-projects\\lib\\site-packages\\pymongo\\mongo_client.py\u001b[0m in \u001b[0;36m_get_server_session\u001b[1;34m(self)\u001b[0m\n\u001b[0;32m   1791\u001b[0m     \u001b[1;32mdef\u001b[0m \u001b[0m_get_server_session\u001b[0m\u001b[1;33m(\u001b[0m\u001b[0mself\u001b[0m\u001b[1;33m)\u001b[0m\u001b[1;33m:\u001b[0m\u001b[1;33m\u001b[0m\u001b[1;33m\u001b[0m\u001b[0m\n\u001b[0;32m   1792\u001b[0m         \u001b[1;34m\"\"\"Internal: start or resume a _ServerSession.\"\"\"\u001b[0m\u001b[1;33m\u001b[0m\u001b[1;33m\u001b[0m\u001b[0m\n\u001b[1;32m-> 1793\u001b[1;33m         \u001b[1;32mreturn\u001b[0m \u001b[0mself\u001b[0m\u001b[1;33m.\u001b[0m\u001b[0m_topology\u001b[0m\u001b[1;33m.\u001b[0m\u001b[0mget_server_session\u001b[0m\u001b[1;33m(\u001b[0m\u001b[1;33m)\u001b[0m\u001b[1;33m\u001b[0m\u001b[1;33m\u001b[0m\u001b[0m\n\u001b[0m\u001b[0;32m   1794\u001b[0m \u001b[1;33m\u001b[0m\u001b[0m\n\u001b[0;32m   1795\u001b[0m     \u001b[1;32mdef\u001b[0m \u001b[0m_return_server_session\u001b[0m\u001b[1;33m(\u001b[0m\u001b[0mself\u001b[0m\u001b[1;33m,\u001b[0m \u001b[0mserver_session\u001b[0m\u001b[1;33m,\u001b[0m \u001b[0mlock\u001b[0m\u001b[1;33m)\u001b[0m\u001b[1;33m:\u001b[0m\u001b[1;33m\u001b[0m\u001b[1;33m\u001b[0m\u001b[0m\n",
      "\u001b[1;32m~\\anaconda3\\envs\\big-data-projects\\lib\\site-packages\\pymongo\\topology.py\u001b[0m in \u001b[0;36mget_server_session\u001b[1;34m(self)\u001b[0m\n\u001b[0;32m    475\u001b[0m                             \u001b[0many_server_selector\u001b[0m\u001b[1;33m,\u001b[0m\u001b[1;33m\u001b[0m\u001b[1;33m\u001b[0m\u001b[0m\n\u001b[0;32m    476\u001b[0m                             \u001b[0mself\u001b[0m\u001b[1;33m.\u001b[0m\u001b[0m_settings\u001b[0m\u001b[1;33m.\u001b[0m\u001b[0mserver_selection_timeout\u001b[0m\u001b[1;33m,\u001b[0m\u001b[1;33m\u001b[0m\u001b[1;33m\u001b[0m\u001b[0m\n\u001b[1;32m--> 477\u001b[1;33m                             None)\n\u001b[0m\u001b[0;32m    478\u001b[0m                 \u001b[1;32melif\u001b[0m \u001b[1;32mnot\u001b[0m \u001b[0mself\u001b[0m\u001b[1;33m.\u001b[0m\u001b[0m_description\u001b[0m\u001b[1;33m.\u001b[0m\u001b[0mreadable_servers\u001b[0m\u001b[1;33m:\u001b[0m\u001b[1;33m\u001b[0m\u001b[1;33m\u001b[0m\u001b[0m\n\u001b[0;32m    479\u001b[0m                     self._select_servers_loop(\n",
      "\u001b[1;32m~\\anaconda3\\envs\\big-data-projects\\lib\\site-packages\\pymongo\\topology.py\u001b[0m in \u001b[0;36m_select_servers_loop\u001b[1;34m(self, selector, timeout, address)\u001b[0m\n\u001b[0;32m    203\u001b[0m             \u001b[1;32mif\u001b[0m \u001b[0mtimeout\u001b[0m \u001b[1;33m==\u001b[0m \u001b[1;36m0\u001b[0m \u001b[1;32mor\u001b[0m \u001b[0mnow\u001b[0m \u001b[1;33m>\u001b[0m \u001b[0mend_time\u001b[0m\u001b[1;33m:\u001b[0m\u001b[1;33m\u001b[0m\u001b[1;33m\u001b[0m\u001b[0m\n\u001b[0;32m    204\u001b[0m                 raise ServerSelectionTimeoutError(\n\u001b[1;32m--> 205\u001b[1;33m                     self._error_message(selector))\n\u001b[0m\u001b[0;32m    206\u001b[0m \u001b[1;33m\u001b[0m\u001b[0m\n\u001b[0;32m    207\u001b[0m             \u001b[0mself\u001b[0m\u001b[1;33m.\u001b[0m\u001b[0m_ensure_opened\u001b[0m\u001b[1;33m(\u001b[0m\u001b[1;33m)\u001b[0m\u001b[1;33m\u001b[0m\u001b[1;33m\u001b[0m\u001b[0m\n",
      "\u001b[1;31mServerSelectionTimeoutError\u001b[0m: localhost:27017: [WinError 10061] Impossibile stabilire la connessione. Rifiuto persistente del computer di destinazione"
     ]
    }
   ],
   "source": [
    "cursor = collection.find({\"summary\": {\"$regex\": \"attic\"}})\\\n",
    "    .sort([(\"reviews.review_scores_value\", pymongo.DESCENDING),\n",
    "           (\"reviews.number_of_reviews\", pymongo.DESCENDING)])\\\n",
    "    .limit(10)\n",
    "print_results(cursor, [\"name\", \"summary\", \n",
    "                       \"reviews.review_scores_value\", \"reviews.number_of_reviews\"])"
   ]
  },
  {
   "cell_type": "markdown",
   "metadata": {
    "colab_type": "text",
    "id": "Law5PaN_kXYU"
   },
   "source": [
    "## Query 2: Migliori 10 appartamenti con 5-10 letti e almeno 100 recensioni\n",
    "Questa query usa operatori logici e aritmetici per trovare tutti gli appartamenti che abbiano tra i 5 e i 10 letti, un voto nelle recensioni maggiore di 8 e almeno 100 recensioni. Questa potrebbe essere una ricerca plausibile per una famiglia numerosa o un gruppo di amici."
   ]
  },
  {
   "cell_type": "code",
   "execution_count": null,
   "metadata": {
    "colab": {},
    "colab_type": "code",
    "id": "fL976GpDkXYV"
   },
   "outputs": [],
   "source": [
    "cursor = collection.find(\n",
    "    {\n",
    "        \"$and\": [\n",
    "            {\"spaces.beds\": {\"$gte\": 5}}, \n",
    "            {\"spaces.beds\": {\"$lte\": 10}}, \n",
    "            {\"reviews.review_scores_value\": {\"$gt\": 8}},\n",
    "            {\"reviews.number_of_reviews\": {\"$gt\": 100}}\n",
    "        ]\n",
    "    }\n",
    ").sort([(\"reviews.review_scores_value\", pymongo.DESCENDING),\n",
    "        (\"reviews.number_of_reviews\", pymongo.DESCENDING)]).limit(10)\n",
    "print_results(cursor, [\"name\", \"spaces.beds\", \n",
    "                       \"reviews.review_scores_value\", \"reviews.number_of_reviews\"])"
   ]
  },
  {
   "cell_type": "markdown",
   "metadata": {
    "colab_type": "text",
    "id": "rM3lepVh5V3s"
   },
   "source": [
    "## Query 3: Gli appartamenti più vicini al Colosseo\n",
    "Questa query utilizza utilizza l'indice geografico creato precedentemente con l'operatore ``$near`` per identificare i 10 appartamenti più vicini al Colosseo, sfruttando le sue coordinate di latitudine e longitudine."
   ]
  },
  {
   "cell_type": "code",
   "execution_count": null,
   "metadata": {
    "colab": {},
    "colab_type": "code",
    "id": "FhLI7GZlz_9K"
   },
   "outputs": [],
   "source": [
    "COLOSSEUM_LATITUDE = 41.890278\n",
    "COLOSSEUM_LONGITUDE = 12.492222\n",
    "\n",
    "cursor = collection.find(\n",
    "    {\n",
    "        \"location\": {\"$near\": [COLOSSEUM_LONGITUDE, COLOSSEUM_LATITUDE]}\n",
    "    }\n",
    ").limit(10)\n",
    "print_results(cursor, [\"name\", \"summary\", \"location\"])"
   ]
  },
  {
   "cell_type": "markdown",
   "metadata": {
    "colab_type": "text",
    "id": "71GoJYIN5V3z"
   },
   "source": [
    "## Query 4: Quartieri con prezzi mensili mediamente più bassi\n",
    "Questa query utilizza la pipeline di aggregazione per identificare i quartieri in cui gli appartamenti hanno il prezzo medio mensile più basso. Questa query potrebbe riprodurre la ricerca di uno studente fuorisede che vuole identificare la zona più economica in cui cercare un appartamento per stabilirsi in città."
   ]
  },
  {
   "cell_type": "code",
   "execution_count": null,
   "metadata": {
    "colab": {},
    "colab_type": "code",
    "id": "KGL8z8Yl2X92"
   },
   "outputs": [],
   "source": [
    "cursor = collection.aggregate(\n",
    "    [\n",
    "        {\"$match\": {\"$and\": [{\"pricing.monthly_price\": {\"$exists\": True}}, \n",
    "                             {\"address.neighbourhood\": {\"$exists\": True}}]}},\n",
    "        {\n",
    "            \"$group\": {\n",
    "                \"_id\": \"$address.neighbourhood\",\n",
    "                \"avg_price\": {\"$avg\": \"$pricing.monthly_price\"},\n",
    "                \"number_of_apartments\": {\"$sum\": 1}\n",
    "            }\n",
    "        },\n",
    "        {\"$sort\": {\"avg_price\": 1}},\n",
    "        {\"$limit\": 20}\n",
    "    ]\n",
    ")\n",
    "print_results(cursor)"
   ]
  },
  {
   "cell_type": "markdown",
   "metadata": {
    "colab_type": "text",
    "id": "otkrSkx-5V36"
   },
   "source": [
    "## Query 5: Migliori 10 gestori di appartamenti\n",
    "Questa query sfrutta la pipeline di aggregazione per identificare i migliori \"gestori\" di appartamenti. Per fare ciò, vengono raggruppati gli appartamenti che hanno lo stesso proprietario, si calcola la media dei voti delle recensioni degli appartamenti e si somma il loro numero. Si considerano i 10 gestori con la più alta media di recensioni e, in caso di parità, si considera quello con il numero maggiore di recensioni."
   ]
  },
  {
   "cell_type": "code",
   "execution_count": null,
   "metadata": {
    "colab": {},
    "colab_type": "code",
    "id": "7uT6KGcHkXYY"
   },
   "outputs": [],
   "source": [
    "cursor = collection.aggregate(\n",
    "    [\n",
    "        {\n",
    "            \"$group\": \n",
    "                {\n",
    "                    \"_id\": \"$host.host_id\",\n",
    "                    \"name\": {\"$addToSet\": \"$host.host_name\"},\n",
    "                    \"rating\": {\"$avg\": \"$reviews.review_scores_value\"}, \n",
    "                    \"reviews\": {\"$sum\": \"$reviews.number_of_reviews\"}\n",
    "                }\n",
    "        },\n",
    "        {\"$sort\": {\"rating\": -1, \"reviews\": -1}},\n",
    "        {\"$limit\": 10}\n",
    "    ]\n",
    ")\n",
    "print_results(cursor)"
   ]
  }
 ],
 "metadata": {
  "colab": {
   "collapsed_sections": [],
   "name": "1_BDM_Attivita-definitivo.ipynb",
   "provenance": []
  },
  "kernelspec": {
   "display_name": "Python 3",
   "language": "python",
   "name": "python3"
  },
  "language_info": {
   "codemirror_mode": {
    "name": "ipython",
    "version": 3
   },
   "file_extension": ".py",
   "mimetype": "text/x-python",
   "name": "python",
   "nbconvert_exporter": "python",
   "pygments_lexer": "ipython3",
   "version": "3.7.7"
  }
 },
 "nbformat": 4,
 "nbformat_minor": 1
}
